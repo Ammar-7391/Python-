{
 "cells": [
  {
   "cell_type": "markdown",
   "metadata": {},
   "source": [
    "# 1.1 Write a Python Program to implement your own myreduce() function which works exactly like Python's built-in function reduce()\n"
   ]
  },
  {
   "cell_type": "code",
   "execution_count": 1,
   "metadata": {},
   "outputs": [
    {
     "name": "stdout",
     "output_type": "stream",
     "text": [
      "InPut\n",
      "Please Enter the Number:5\n",
      "OutPut\n",
      "The List of Natuaral Numbers are: [1, 2, 3, 4, 5]\n",
      "The Product of Natural Numbers are 120\n"
     ]
    }
   ],
   "source": [
    "##### Function similar as built-in reduce()\n",
    "print(\"InPut\")\n",
    "number=int(input(\"Please Enter the Number:\"))\n",
    "def myreduce(number):\n",
    "    \n",
    "    \"\"\"This function will return the product of Natural Number\"\"\"\n",
    "    lst_of_num = list(range(1,number+1))\n",
    "    product_of_num=1\n",
    "    #tup_of_num=tuple(range(1,number+1))\n",
    "    for i in lst_of_num:\n",
    "        product_of_num=product_of_num*i\n",
    "    return lst_of_num,product_of_num,#tup_of_num\n",
    "output= myreduce(number)\n",
    "print(\"OutPut\")\n",
    "print(\"The List of Natuaral Numbers are:\",output[0])\n",
    "print(\"The Product of Natural Numbers are\",output[1])\n",
    "#print(\"The Tuple of Natuaral Numbers are:\",output[2])"
   ]
  },
  {
   "cell_type": "code",
   "execution_count": 2,
   "metadata": {},
   "outputs": [
    {
     "name": "stdout",
     "output_type": "stream",
     "text": [
      "INPUT\n",
      "Please Enter the Number:5\n",
      "OUTPUT\n",
      "The list of FIRST NATURAL NUMBERS is: [1, 2, 3, 4, 5]\n",
      "The product of FIRST NATURAL NUMBERS is: 120\n"
     ]
    }
   ],
   "source": [
    "#Solution using Built-In Function reduce():\n",
    "#INPUT\n",
    "print(\"INPUT\")\n",
    "num=int(input(\"Please Enter the Number:\"))\n",
    "num_lst=list(range(1,num+1))\n",
    "#Importing reduce() from functools\n",
    "from functools import reduce\n",
    "product_of_Numbers= reduce ((lambda x,y:x*y),num_lst)\n",
    "#OUTPUT\n",
    "print(\"OUTPUT\")\n",
    "print(\"The list of FIRST NATURAL NUMBERS is:\",num_lst)\n",
    "print(\"The product of FIRST NATURAL NUMBERS is:\",product_of_Numbers)"
   ]
  },
  {
   "cell_type": "markdown",
   "metadata": {},
   "source": [
    "# 1.2 Write a Python program to implement your own myfilter() function which works exactly like Python's built-in function filter()\n"
   ]
  },
  {
   "cell_type": "code",
   "execution_count": 3,
   "metadata": {},
   "outputs": [
    {
     "name": "stdout",
     "output_type": "stream",
     "text": [
      "INPUT:\n",
      "Please Enter the Numbers:40\n",
      "OUTPUT:\n",
      "The list of NUMBERS is: [1, 2, 3, 4, 5, 6, 7, 8, 9, 10, 11, 12, 13, 14, 15, 16, 17, 18, 19, 20, 21, 22, 23, 24, 25, 26, 27, 28, 29, 30, 31, 32, 33, 34, 35, 36, 37, 38, 39, 40]\n",
      "The list of EVEN_NUMBERS is: [6, 12, 18, 24, 30, 36]\n",
      "The list of ODD_NUMBERS is: [21]\n"
     ]
    }
   ],
   "source": [
    "#INPUT\n",
    "print(\"INPUT:\")\n",
    "numbers=int(input(\"Please Enter the Numbers:\"))\n",
    "numbers_lst=list(range(1,numbers+1))\n",
    "def myfilter(numbers_lst):\n",
    "    num_even_list=[]\n",
    "    num_odd_list=[]\n",
    "    for i in numbers_lst:\n",
    "        if i%2==0:\n",
    "            if i%3==0:\n",
    "                num_even_list.append(i)\n",
    "        elif i%3==0:\n",
    "            if i%7==0:\n",
    "                num_odd_list.append(i)\n",
    "    return  num_even_list ,num_odd_list\n",
    "            \n",
    "output_value=myfilter(numbers_lst) \n",
    "#OutPut\n",
    "print(\"OUTPUT:\")\n",
    "print(\"The list of NUMBERS is:\",numbers_lst)\n",
    "print(\"The list of EVEN_NUMBERS is:\",output_value[0])\n",
    "print(\"The list of ODD_NUMBERS is:\",output_value[1])\n",
    "    "
   ]
  },
  {
   "cell_type": "code",
   "execution_count": 4,
   "metadata": {},
   "outputs": [
    {
     "name": "stdout",
     "output_type": "stream",
     "text": [
      "INPUT:\n",
      "Please Enter the Number:40\n",
      "OUTPUT\n",
      "The list of NUMBERS is: [1, 2, 3, 4, 5, 6, 7, 8, 9, 10, 11, 12, 13, 14, 15, 16, 17, 18, 19, 20, 21, 22, 23, 24, 25, 26, 27, 28, 29, 30, 31, 32, 33, 34, 35, 36, 37, 38, 39, 40]\n",
      "The list of NUMBERS which are multiples of 2 and 3: [6, 12, 18, 24, 30, 36]\n",
      "The list of NUMBERS which are multiples of 3 and 7: [21]\n"
     ]
    }
   ],
   "source": [
    "#Solution using Built-In Filter():\n",
    "print(\"INPUT:\")\n",
    "numbers=int(input(\"Please Enter the Number:\"))\n",
    "\n",
    "numbers_lst=list(range(1,numbers+1))\n",
    "mul_of_Two_Three =  list(filter(lambda x: x%2==0,list(filter(lambda x: x%3==0 ,numbers_lst))))\n",
    "mul_of_Three_Seven =list(filter(lambda x: x%3==0,list(filter(lambda x: x%7==0 ,numbers_lst))))\n",
    "print(\"OUTPUT\")\n",
    "\n",
    "print(\"The list of NUMBERS is:\",numbers_lst)\n",
    "print(\"The list of NUMBERS which are multiples of 2 and 3:\",mul_of_Two_Three )\n",
    "print(\"The list of NUMBERS which are multiples of 3 and 7:\",mul_of_Three_Seven)"
   ]
  },
  {
   "cell_type": "markdown",
   "metadata": {},
   "source": [
    "# 2. Implement List comprehensions to produce the following lists.\n",
    "Write List comprehensions to produce the following Lists\n",
    "['A', 'C', 'A', 'D', 'G', 'I', ’L’, ‘ D’]\n",
    "['x', 'xx', 'xxx', 'xxxx', 'y', 'yy', 'yyy', 'yyyy', 'z', 'zz', 'zzz', 'zzzz']\n",
    "['x', 'y', 'z', 'xx', 'yy', 'zz', 'xxx', 'yyy', 'zzz', 'xxxx', 'yyyy', 'zzzz']\n",
    "[[2], [3], [4], [3], [4], [5], [4], [5], [6]] [[2, 3, 4, 5], [3, 4, 5, 6],\n",
    "[4, 5, 6, 7], [5, 6, 7, 8]]\n",
    "[(1, 1), (2, 1), (3, 1), (1, 2), (2, 2), (3, 2), (1, 3), (2, 3), (3, 3)]"
   ]
  },
  {
   "cell_type": "code",
   "execution_count": 5,
   "metadata": {},
   "outputs": [
    {
     "name": "stdout",
     "output_type": "stream",
     "text": [
      "['A', 'C', 'A', 'D', 'G', 'I', 'L', 'D']\n",
      "Output:\n",
      "['A', 'C', 'A', 'D', 'G', 'I', 'L', 'D']\n"
     ]
    }
   ],
   "source": [
    "#Using conventional method\n",
    "\n",
    "word=\"AcadGild\"\n",
    "output_list=[]\n",
    "for w in word:\n",
    "    output_list.append(w.upper())\n",
    "print(output_list)\n",
    "\n",
    "\n",
    "\n",
    "\n",
    "#list Comprehension:\n",
    "output_lst=[w.upper() for w in list(word)]\n",
    "print(\"Output:\")\n",
    "print(output_lst)"
   ]
  },
  {
   "cell_type": "code",
   "execution_count": 6,
   "metadata": {},
   "outputs": [
    {
     "name": "stdout",
     "output_type": "stream",
     "text": [
      "['x', 'xx', 'xxx', 'xxxx', 'y', 'yy', 'yyy', 'yyyy', 'z', 'zz', 'zzz', 'zzzz']\n",
      "['x', 'xx', 'xxx', 'xxxx', 'y', 'yy', 'yyy', 'yyyy', 'z', 'zz', 'zzz', 'zzzz']\n"
     ]
    }
   ],
   "source": [
    "#Using conventional method\n",
    "word='xyz'\n",
    "output1=[]\n",
    "n=1\n",
    "for w in word:\n",
    "    for n in range(1,5):\n",
    "        output1.append(w*n)\n",
    "print(output1)\n",
    "\n",
    "#list Comprehension:\n",
    "word1=[x*n for x in word for n in range(1,5) ]\n",
    "print(word1)\n"
   ]
  },
  {
   "cell_type": "code",
   "execution_count": 7,
   "metadata": {},
   "outputs": [
    {
     "name": "stdout",
     "output_type": "stream",
     "text": [
      "['x', 'y', 'z', 'xx', 'yy', 'zz', 'xxx', 'yyy', 'zzz', 'xxxx', 'yyyy', 'zzzz']\n",
      "['x', 'y', 'z', 'xx', 'yy', 'zz', 'xxx', 'yyy', 'zzz', 'xxxx', 'yyyy', 'zzzz']\n"
     ]
    }
   ],
   "source": [
    "#Using conventional method\n",
    "word='xyz'\n",
    "output2=[]\n",
    "for n in range(1,5):\n",
    "    for w in word:\n",
    "        output2.append(w*n)\n",
    "print(output2)\n",
    "\n",
    "#list Comprehension:\n",
    "word2=[w*n for n in range (1,5) for w in word]\n",
    "print(word2)"
   ]
  },
  {
   "cell_type": "code",
   "execution_count": 8,
   "metadata": {},
   "outputs": [
    {
     "name": "stdout",
     "output_type": "stream",
     "text": [
      "[[2], [3], [4], [3], [4], [5], [4], [5], [6]]\n",
      "[[2], [3], [4], [3], [4], [5], [4], [5], [6]]\n"
     ]
    }
   ],
   "source": [
    "#Using conventional method\n",
    "number=[2,3,4]\n",
    "number1=[]\n",
    "for n in number:\n",
    "    for i in range(0,3):\n",
    "        number1.append([n+i])\n",
    "print(number1)\n",
    "#list Comprehension:\n",
    "number=[2,3,4]\n",
    "number_1=[[x+n] for x in number for n in range(0,3)]\n",
    "print(number_1)"
   ]
  },
  {
   "cell_type": "code",
   "execution_count": 9,
   "metadata": {},
   "outputs": [
    {
     "name": "stdout",
     "output_type": "stream",
     "text": [
      "[[2, 3, 4, 5], [3, 4, 5, 6], [4, 5, 6, 7], [5, 6, 7, 8]]\n",
      "[[2, 3, 4, 5], [3, 4, 5, 6], [4, 5, 6, 7], [5, 6, 7, 8]]\n"
     ]
    }
   ],
   "source": [
    "#Using conventional method\n",
    "matrix = []\n",
    "number2=[2,3,4,5]\n",
    "\n",
    "for x in number2:\n",
    "    lst=[]\n",
    "    for n in range(0,4):\n",
    "        lst.append(n+x)\n",
    "    matrix.append(lst)\n",
    "\n",
    "print(matrix)\n",
    "\n",
    "#list Comprehension:\n",
    "number_2=[2,3,4,5]\n",
    "number_3=[[x+n for n in range(0,4)] for x in number_2 ]\n",
    "print(number_3)"
   ]
  },
  {
   "cell_type": "code",
   "execution_count": 11,
   "metadata": {},
   "outputs": [
    {
     "name": "stdout",
     "output_type": "stream",
     "text": [
      "[(1, 1), (2, 1), (3, 1), (1, 2), (2, 2), (3, 2), (1, 3), (2, 3), (3, 3)]\n",
      "[(1, 1), (2, 1), (3, 1), (1, 2), (2, 2), (3, 2), (1, 3), (2, 3), (3, 3)]\n"
     ]
    }
   ],
   "source": [
    "#Using conventional method\n",
    "number_4=[1,2,3]\n",
    "lst=[]\n",
    "for a in number_4:\n",
    "    for b in number_4:\n",
    "        lst.append((b,a))\n",
    "print(lst)\n",
    "\n",
    "\n",
    "#list Comprehension:\n",
    "number_4=[1,2,3]\n",
    "number_5= [(b,a) for a in number_4 for b in number_4]\n",
    "print(number_5)"
   ]
  },
  {
   "cell_type": "code",
   "execution_count": null,
   "metadata": {},
   "outputs": [],
   "source": []
  }
 ],
 "metadata": {
  "kernelspec": {
   "display_name": "Python 3",
   "language": "python",
   "name": "python3"
  },
  "language_info": {
   "codemirror_mode": {
    "name": "ipython",
    "version": 3
   },
   "file_extension": ".py",
   "mimetype": "text/x-python",
   "name": "python",
   "nbconvert_exporter": "python",
   "pygments_lexer": "ipython3",
   "version": "3.6.5"
  }
 },
 "nbformat": 4,
 "nbformat_minor": 2
}
