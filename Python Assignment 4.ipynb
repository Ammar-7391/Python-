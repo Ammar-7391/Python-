{
 "cells": [
  {
   "cell_type": "markdown",
   "metadata": {},
   "source": [
    "1.1 Write a Python Program(with class concepts) to find the area of the triangle using the belowformula of \n",
    "Area = (s*(s-a)*(s-b)*(s-c)) ** 0.5\n",
    "Function to take the length of the sides of triangle from user should be defined in the parent-class and function to calculate the area should be defined in subclass."
   ]
  },
  {
   "cell_type": "code",
   "execution_count": 1,
   "metadata": {},
   "outputs": [
    {
     "name": "stdout",
     "output_type": "stream",
     "text": [
      "Enter the length of Side1: 23\n",
      "Enter the length of Side2: 56\n",
      "Enter the length of Side3: 67\n",
      "Enter the type of Triangle: Right Angle\n",
      "23 56 and 67 are the lengths of sides of Right Angle Triangle.\n",
      "The Area of the given  is 610.163912403872 \n"
     ]
    }
   ],
   "source": [
    "class Sides_of_Triangle:\n",
    "    def __init__(self,a,b,c):\n",
    "        self.a=float(a)\n",
    "        self.b=float(b)\n",
    "        self.c=float(c)\n",
    "a=int(input(\"Enter the length of Side1: \"))\n",
    "b=int(input(\"Enter the length of Side2: \"))\n",
    "c=int(input(\"Enter the length of Side3: \"))\n",
    "class Area_of_Triangle(Sides_of_Triangle):\n",
    "    def __init__(self,a,b,c):\n",
    "        super().__init__ (a,b,c)\n",
    "        self.Area_of_Triangle=input(\"Enter the type of Triangle: \")\n",
    "    def area(self):\n",
    "        s=(a+b+c)/2\n",
    "        return (s*(s-a)*(s-b)*(s-c))**0.5\n",
    "    def __str__(self):\n",
    "        return \"%d %d and %d are the lengths of sides of %s Triangle.\" %(self.a,self.b,self.c,self.Area_of_Triangle)\n",
    "                                          \n",
    "t=Area_of_Triangle(a,b,c)\n",
    "print(t)\n",
    "\n",
    "print(\"The Area of the given  is {} \".format(t.area()))"
   ]
  },
  {
   "cell_type": "markdown",
   "metadata": {},
   "source": [
    " 1.2 Write a function filter_long_words() that takes a list of words and an integer n and returnsthe list of words that are longer than n."
   ]
  },
  {
   "cell_type": "code",
   "execution_count": 2,
   "metadata": {},
   "outputs": [
    {
     "name": "stdout",
     "output_type": "stream",
     "text": [
      "Enter the number of element in LIST: 4\n",
      "Apple\n",
      "Mango\n",
      "Pineapple\n",
      "Water-Melon\n",
      "The element entered in list are ['Apple', 'Mango', 'Pineapple', 'Water-Melon']\n"
     ]
    }
   ],
   "source": [
    "lst=[]\n",
    "m=int(input(\"Enter the number of element in LIST: \"))\n",
    "for i in range(0,m):\n",
    "    ele=input()\n",
    "    lst.append(ele)\n",
    "print(\"The element entered in list are\",lst)\n",
    "#Apple \n",
    "#Mango\n",
    "#Pineapple\n",
    "#Water-Melon"
   ]
  },
  {
   "cell_type": "code",
   "execution_count": 3,
   "metadata": {},
   "outputs": [],
   "source": [
    "def wordlen(lst):\n",
    "    num=int(input(\"Enter the Number for comparision:\"))\n",
    "    print(\"Words greater than the integer %d are: \"%(num))\n",
    "    for n in lst:\n",
    "        if len(n)>num:\n",
    "            print(n)\n",
    "            "
   ]
  },
  {
   "cell_type": "code",
   "execution_count": 4,
   "metadata": {},
   "outputs": [
    {
     "name": "stdout",
     "output_type": "stream",
     "text": [
      "Enter the Number for comparision:7\n",
      "Words greater than the integer 7 are: \n",
      "Pineapple\n",
      "Water-Melon\n"
     ]
    }
   ],
   "source": [
    "wordlen(lst)"
   ]
  },
  {
   "cell_type": "markdown",
   "metadata": {},
   "source": [
    "2.1 Write a Python program using function concept that maps list of words into a list of integers\n",
    "representing the lengths of the corresponding words.\n",
    "Hint: If a list [ ab,cde,erty] is passed on to the python function output should come as [2,3,4]\n",
    "Here 2,3 and 4 are the lengths of the words in the list."
   ]
  },
  {
   "cell_type": "code",
   "execution_count": 5,
   "metadata": {},
   "outputs": [
    {
     "name": "stdout",
     "output_type": "stream",
     "text": [
      "Enter the number of element in LIST: 4\n",
      "Apple\n",
      "Mango\n",
      "Pineapple\n",
      "Water Melon\n",
      "The element entered in list are ['Apple', 'Mango', 'Pineapple', 'Water Melon']\n"
     ]
    }
   ],
   "source": [
    "lst=[]\n",
    "m=int(input(\"Enter the number of element in LIST: \"))\n",
    "for i in range(0,m):\n",
    "    ele=input()\n",
    "    lst.append(ele)\n",
    "print(\"The element entered in list are\",lst)\n",
    "#Apple \n",
    "#Mango\n",
    "#Pineapple\n",
    "#Water-Melon"
   ]
  },
  {
   "cell_type": "code",
   "execution_count": 6,
   "metadata": {},
   "outputs": [
    {
     "name": "stdout",
     "output_type": "stream",
     "text": [
      "Lengths of Words in list LST are: [5, 5, 9, 11]\n"
     ]
    }
   ],
   "source": [
    "def wordlength(lst):\n",
    "    return list(map(lambda x: len(x), lst))\n",
    "\n",
    "print (\"Lengths of Words in list LST are: \" + str(wordlength(lst)))\n"
   ]
  },
  {
   "cell_type": "markdown",
   "metadata": {},
   "source": [
    "2.2\n",
    "Write a Python function which takes a character (i.e. a string of length 1) and returns True if\n",
    "it is a vowel, False otherwise."
   ]
  },
  {
   "cell_type": "code",
   "execution_count": 7,
   "metadata": {},
   "outputs": [],
   "source": [
    "def is_vowel(char):\n",
    "    try:\n",
    "            'aeiou'.index(char.lower())\n",
    "            return True\n",
    "    except: \n",
    "            return False"
   ]
  },
  {
   "cell_type": "code",
   "execution_count": 8,
   "metadata": {},
   "outputs": [
    {
     "data": {
      "text/plain": [
       "False"
      ]
     },
     "execution_count": 8,
     "metadata": {},
     "output_type": "execute_result"
    }
   ],
   "source": [
    "is_vowel(\"fhks\")"
   ]
  },
  {
   "cell_type": "code",
   "execution_count": 9,
   "metadata": {},
   "outputs": [],
   "source": [
    "def vowel(char):\n",
    "    for c in char:\n",
    "        if c==\"a\" or \"i\"or \"e\" or \"o\" or\"u\":\n",
    "            return True\n",
    "        else:\n",
    "            False"
   ]
  },
  {
   "cell_type": "code",
   "execution_count": 10,
   "metadata": {},
   "outputs": [],
   "source": [
    "f=vowel(\"elephant\")"
   ]
  },
  {
   "cell_type": "code",
   "execution_count": 11,
   "metadata": {},
   "outputs": [
    {
     "name": "stdout",
     "output_type": "stream",
     "text": [
      "True\n"
     ]
    }
   ],
   "source": [
    "print(f)"
   ]
  }
 ],
 "metadata": {
  "kernelspec": {
   "display_name": "Python 3",
   "language": "python",
   "name": "python3"
  },
  "language_info": {
   "codemirror_mode": {
    "name": "ipython",
    "version": 3
   },
   "file_extension": ".py",
   "mimetype": "text/x-python",
   "name": "python",
   "nbconvert_exporter": "python",
   "pygments_lexer": "ipython3",
   "version": "3.6.5"
  }
 },
 "nbformat": 4,
 "nbformat_minor": 2
}
